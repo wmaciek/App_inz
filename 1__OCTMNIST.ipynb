{
  "cells": [
    {
      "cell_type": "markdown",
      "metadata": {
        "id": "view-in-github",
        "colab_type": "text"
      },
      "source": [
        "<a href=\"https://colab.research.google.com/github/wmaciek/App_inz/blob/master/1__OCTMNIST.ipynb\" target=\"_parent\"><img src=\"https://colab.research.google.com/assets/colab-badge.svg\" alt=\"Open In Colab\"/></a>"
      ]
    },
    {
      "cell_type": "code",
      "execution_count": null,
      "metadata": {
        "id": "sGp77rgYQQnt",
        "colab": {
          "base_uri": "https://localhost:8080/"
        },
        "outputId": "114928c4-19d8-4139-b892-7cc527616510"
      },
      "outputs": [
        {
          "output_type": "stream",
          "name": "stdout",
          "text": [
            "Looking in indexes: https://pypi.org/simple, https://us-python.pkg.dev/colab-wheels/public/simple/\n",
            "Collecting medmnist\n",
            "  Downloading medmnist-2.1.0-py3-none-any.whl (21 kB)\n",
            "Requirement already satisfied: scikit-image in /usr/local/lib/python3.7/dist-packages (from medmnist) (0.18.3)\n",
            "Requirement already satisfied: tqdm in /usr/local/lib/python3.7/dist-packages (from medmnist) (4.64.1)\n",
            "Requirement already satisfied: torch in /usr/local/lib/python3.7/dist-packages (from medmnist) (1.12.1+cu113)\n",
            "Collecting fire\n",
            "  Downloading fire-0.4.0.tar.gz (87 kB)\n",
            "\u001b[K     |████████████████████████████████| 87 kB 4.1 MB/s \n",
            "\u001b[?25hRequirement already satisfied: numpy in /usr/local/lib/python3.7/dist-packages (from medmnist) (1.21.6)\n",
            "Requirement already satisfied: torchvision in /usr/local/lib/python3.7/dist-packages (from medmnist) (0.13.1+cu113)\n",
            "Requirement already satisfied: Pillow in /usr/local/lib/python3.7/dist-packages (from medmnist) (7.1.2)\n",
            "Requirement already satisfied: pandas in /usr/local/lib/python3.7/dist-packages (from medmnist) (1.3.5)\n",
            "Requirement already satisfied: scikit-learn in /usr/local/lib/python3.7/dist-packages (from medmnist) (1.0.2)\n",
            "Requirement already satisfied: six in /usr/local/lib/python3.7/dist-packages (from fire->medmnist) (1.15.0)\n",
            "Requirement already satisfied: termcolor in /usr/local/lib/python3.7/dist-packages (from fire->medmnist) (2.1.0)\n",
            "Requirement already satisfied: pytz>=2017.3 in /usr/local/lib/python3.7/dist-packages (from pandas->medmnist) (2022.6)\n",
            "Requirement already satisfied: python-dateutil>=2.7.3 in /usr/local/lib/python3.7/dist-packages (from pandas->medmnist) (2.8.2)\n",
            "Requirement already satisfied: networkx>=2.0 in /usr/local/lib/python3.7/dist-packages (from scikit-image->medmnist) (2.6.3)\n",
            "Requirement already satisfied: scipy>=1.0.1 in /usr/local/lib/python3.7/dist-packages (from scikit-image->medmnist) (1.7.3)\n",
            "Requirement already satisfied: matplotlib!=3.0.0,>=2.0.0 in /usr/local/lib/python3.7/dist-packages (from scikit-image->medmnist) (3.2.2)\n",
            "Requirement already satisfied: tifffile>=2019.7.26 in /usr/local/lib/python3.7/dist-packages (from scikit-image->medmnist) (2021.11.2)\n",
            "Requirement already satisfied: imageio>=2.3.0 in /usr/local/lib/python3.7/dist-packages (from scikit-image->medmnist) (2.9.0)\n",
            "Requirement already satisfied: PyWavelets>=1.1.1 in /usr/local/lib/python3.7/dist-packages (from scikit-image->medmnist) (1.3.0)\n",
            "Requirement already satisfied: pyparsing!=2.0.4,!=2.1.2,!=2.1.6,>=2.0.1 in /usr/local/lib/python3.7/dist-packages (from matplotlib!=3.0.0,>=2.0.0->scikit-image->medmnist) (3.0.9)\n",
            "Requirement already satisfied: cycler>=0.10 in /usr/local/lib/python3.7/dist-packages (from matplotlib!=3.0.0,>=2.0.0->scikit-image->medmnist) (0.11.0)\n",
            "Requirement already satisfied: kiwisolver>=1.0.1 in /usr/local/lib/python3.7/dist-packages (from matplotlib!=3.0.0,>=2.0.0->scikit-image->medmnist) (1.4.4)\n",
            "Requirement already satisfied: typing-extensions in /usr/local/lib/python3.7/dist-packages (from kiwisolver>=1.0.1->matplotlib!=3.0.0,>=2.0.0->scikit-image->medmnist) (4.1.1)\n",
            "Requirement already satisfied: joblib>=0.11 in /usr/local/lib/python3.7/dist-packages (from scikit-learn->medmnist) (1.2.0)\n",
            "Requirement already satisfied: threadpoolctl>=2.0.0 in /usr/local/lib/python3.7/dist-packages (from scikit-learn->medmnist) (3.1.0)\n",
            "Requirement already satisfied: requests in /usr/local/lib/python3.7/dist-packages (from torchvision->medmnist) (2.23.0)\n",
            "Requirement already satisfied: urllib3!=1.25.0,!=1.25.1,<1.26,>=1.21.1 in /usr/local/lib/python3.7/dist-packages (from requests->torchvision->medmnist) (1.24.3)\n",
            "Requirement already satisfied: idna<3,>=2.5 in /usr/local/lib/python3.7/dist-packages (from requests->torchvision->medmnist) (2.10)\n",
            "Requirement already satisfied: certifi>=2017.4.17 in /usr/local/lib/python3.7/dist-packages (from requests->torchvision->medmnist) (2022.9.24)\n",
            "Requirement already satisfied: chardet<4,>=3.0.2 in /usr/local/lib/python3.7/dist-packages (from requests->torchvision->medmnist) (3.0.4)\n",
            "Building wheels for collected packages: fire\n",
            "  Building wheel for fire (setup.py) ... \u001b[?25l\u001b[?25hdone\n",
            "  Created wheel for fire: filename=fire-0.4.0-py2.py3-none-any.whl size=115943 sha256=c295f6d1b121def2b12784f4f2dcdd84ab89bf1e88b931228571106ff903a2e2\n",
            "  Stored in directory: /root/.cache/pip/wheels/8a/67/fb/2e8a12fa16661b9d5af1f654bd199366799740a85c64981226\n",
            "Successfully built fire\n",
            "Installing collected packages: fire, medmnist\n",
            "Successfully installed fire-0.4.0 medmnist-2.1.0\n"
          ]
        }
      ],
      "source": [
        "!pip install medmnist"
      ]
    },
    {
      "cell_type": "code",
      "execution_count": null,
      "metadata": {
        "id": "SJRIP6oaTU3L"
      },
      "outputs": [],
      "source": [
        "from tqdm import tqdm\n",
        "import numpy as np\n",
        "import pandas as pd\n",
        "import torch\n",
        "import torch.nn as nn\n",
        "import torch.optim as optim\n",
        "from torch.utils.data import DataLoader, WeightedRandomSampler\n",
        "import torchvision.transforms as transforms\n",
        "import torch.nn.functional as F\n",
        "import seaborn as sn\n",
        "from sklearn.metrics import precision_score, recall_score, f1_score\n",
        "from sklearn.metrics import confusion_matrix\n",
        "import matplotlib.pyplot as plt\n",
        "\n",
        "\n",
        "import medmnist\n",
        "from medmnist import INFO, Evaluator"
      ]
    },
    {
      "cell_type": "code",
      "execution_count": null,
      "metadata": {
        "colab": {
          "base_uri": "https://localhost:8080/"
        },
        "id": "ul_wIRo8PJUL",
        "outputId": "65a19783-9058-4001-9cf9-8bfb6ace9144"
      },
      "outputs": [
        {
          "output_type": "stream",
          "name": "stdout",
          "text": [
            "Mounted at /content/drive\n"
          ]
        }
      ],
      "source": [
        "from google.colab import drive\n",
        "drive.mount('/content/drive')"
      ]
    },
    {
      "cell_type": "markdown",
      "metadata": {
        "id": "SdRP98O3EhNs"
      },
      "source": [
        "This is 1. notebook for OCTMNIST Dataset (1 canal)<br>\n",
        "4 clases <br>train: 97477<br>val: 10832<br>test: 1000\n"
      ]
    },
    {
      "cell_type": "code",
      "execution_count": null,
      "metadata": {
        "colab": {
          "base_uri": "https://localhost:8080/",
          "height": 36
        },
        "id": "fKqZhrxLNvDc",
        "outputId": "63a30b09-772f-4eb1-bb7a-b653ba10bf94"
      },
      "outputs": [
        {
          "output_type": "execute_result",
          "data": {
            "text/plain": [
              "'cuda'"
            ],
            "application/vnd.google.colaboratory.intrinsic+json": {
              "type": "string"
            }
          },
          "metadata": {},
          "execution_count": 4
        }
      ],
      "source": [
        "#selecting device\n",
        "device = \"cuda\" if torch.cuda.is_available() else \"cpu\"\n",
        "device"
      ]
    },
    {
      "cell_type": "code",
      "execution_count": null,
      "metadata": {
        "colab": {
          "base_uri": "https://localhost:8080/"
        },
        "id": "nIMYeUI3TXiv",
        "outputId": "b4fe0ca1-be92-43ac-88d6-32bc977e519c"
      },
      "outputs": [
        {
          "name": "stdout",
          "output_type": "stream",
          "text": [
            "MedMNIST v2.1.0 @ https://github.com/MedMNIST/MedMNIST/\n"
          ]
        }
      ],
      "source": [
        "print(f\"MedMNIST v{medmnist.__version__} @ {medmnist.HOMEPAGE}\")"
      ]
    },
    {
      "cell_type": "markdown",
      "metadata": {
        "id": "GVaKBTclR0hh"
      },
      "source": [
        "#Loading dataset"
      ]
    },
    {
      "cell_type": "code",
      "execution_count": null,
      "metadata": {
        "id": "8F_0vepxTZr2"
      },
      "outputs": [],
      "source": [
        "data_flag = 'octmnist'\n",
        "download = True\n",
        "\n",
        "NUM_EPOCHS = 100\n",
        "BATCH_SIZE = 90\n",
        "lr = 0.0005\n",
        "\n",
        "info = INFO[data_flag]\n",
        "task = info['task']\n",
        "n_channels = info['n_channels']\n",
        "n_classes = len(info['label'])\n",
        "\n",
        "DataClass = getattr(medmnist, info['python_class'])"
      ]
    },
    {
      "cell_type": "code",
      "source": [
        "# preprocessing\n",
        "data_transform = transforms.Compose([\n",
        "    transforms.ToTensor(),\n",
        "    transforms.Normalize(mean=[.5], std=[.5],)#,\n",
        "    #transforms.Grayscale(num_output_channels=1)\n",
        "])\n",
        "\n",
        "# load the data\n",
        "train_dataset = DataClass(split='train', transform=data_transform, download=download)\n",
        "val_dataset = DataClass(split='val', transform=data_transform, download=download)\n",
        "test_dataset = DataClass(split='test', transform=data_transform, download=download)"
      ],
      "metadata": {
        "id": "_N3RqmofzTgk",
        "colab": {
          "base_uri": "https://localhost:8080/",
          "height": 101,
          "referenced_widgets": [
            "da152b93efff4e01853887291fd72106",
            "6ee9e929c0a24b108f9b64e459f9d7ae",
            "ce182525d53041c4ab42cff9e7feecd1",
            "1cc7da8d10b94792bafc5578effdf1a1",
            "268dc3397764432d8eac765d8a7eb58c",
            "b3724bbfc37440f88483c7f10714ea41",
            "8eea0b3b15de408e90cb73887e8a1c17",
            "a93ceabd293b48c2b9c595b804117aa5",
            "0cfc438a695d47029f40d0b8a4772776",
            "96d1997ff7384319850e17941709ebb2",
            "a5b9d555e43a45e3a2d3e28e0e8bd971"
          ]
        },
        "outputId": "374b4ea0-876d-46d8-e705-141ed7bdd3e2"
      },
      "execution_count": null,
      "outputs": [
        {
          "output_type": "stream",
          "name": "stdout",
          "text": [
            "Downloading https://zenodo.org/record/6496656/files/octmnist.npz?download=1 to /root/.medmnist/octmnist.npz\n"
          ]
        },
        {
          "output_type": "display_data",
          "data": {
            "text/plain": [
              "  0%|          | 0/54938180 [00:00<?, ?it/s]"
            ],
            "application/vnd.jupyter.widget-view+json": {
              "version_major": 2,
              "version_minor": 0,
              "model_id": "da152b93efff4e01853887291fd72106"
            }
          },
          "metadata": {}
        },
        {
          "output_type": "stream",
          "name": "stdout",
          "text": [
            "Using downloaded and verified file: /root/.medmnist/octmnist.npz\n",
            "Using downloaded and verified file: /root/.medmnist/octmnist.npz\n"
          ]
        }
      ]
    },
    {
      "cell_type": "code",
      "source": [
        "#Creating sampler\n",
        "\n",
        "class_weights = np.array([11, 45, 59, 10])\n",
        "sample_weights = np.array([0] * len(train_dataset))\n",
        "\n",
        "for i, (data,label) in enumerate(train_dataset):\n",
        "  class_weight = class_weights[label]\n",
        "  sample_weights[i] = class_weight\n",
        "\n",
        "sample_weights = torch.from_numpy(sample_weights)\n",
        "sampler = WeightedRandomSampler(sample_weights.type('torch.DoubleTensor'), len(sample_weights), replacement=True)"
      ],
      "metadata": {
        "id": "d7ySGfEmGxVQ"
      },
      "execution_count": null,
      "outputs": []
    },
    {
      "cell_type": "code",
      "source": [
        "# encapsulate data into dataloader form\n",
        "train_loader = DataLoader(dataset=train_dataset, batch_size=BATCH_SIZE, sampler=sampler)\n",
        "val_loader = DataLoader(dataset=val_dataset, batch_size=2*BATCH_SIZE, shuffle=False)\n",
        "test_loader = DataLoader(dataset=test_dataset, batch_size=2*BATCH_SIZE, shuffle=False)\n",
        "train2_loader = DataLoader(dataset=train_dataset, batch_size=BATCH_SIZE)"
      ],
      "metadata": {
        "id": "Iq8bMCK7NI35"
      },
      "execution_count": null,
      "outputs": []
    },
    {
      "cell_type": "markdown",
      "metadata": {
        "id": "RYVeSplzSCJ5"
      },
      "source": [
        "#Info + samples"
      ]
    },
    {
      "cell_type": "code",
      "execution_count": null,
      "metadata": {
        "colab": {
          "base_uri": "https://localhost:8080/"
        },
        "id": "ep7GoW3XTmJM",
        "outputId": "1ebbcd55-5715-4189-f94b-ac0f0192bbc7"
      },
      "outputs": [
        {
          "data": {
            "text/plain": [
              "{'python_class': 'OCTMNIST',\n",
              " 'description': 'The OCTMNIST is based on a prior dataset of 109,309 valid optical coherence tomography (OCT) images for retinal diseases. The dataset is comprised of 4 diagnosis categories, leading to a multi-class classification task. We split the source training set with a ratio of 9:1 into training and validation set, and use its source validation set as the test set. The source images are gray-scale, and their sizes are (384−1,536)×(277−512). We center-crop the images and resize them into 1×28×28.',\n",
              " 'url': 'https://zenodo.org/record/6496656/files/octmnist.npz?download=1',\n",
              " 'MD5': 'c68d92d5b585d8d81f7112f81e2d0842',\n",
              " 'task': 'multi-class',\n",
              " 'label': {'0': 'choroidal neovascularization',\n",
              "  '1': 'diabetic macular edema',\n",
              "  '2': 'drusen',\n",
              "  '3': 'normal'},\n",
              " 'n_channels': 1,\n",
              " 'n_samples': {'train': 97477, 'val': 10832, 'test': 1000},\n",
              " 'license': 'CC BY 4.0'}"
            ]
          },
          "execution_count": 14,
          "metadata": {},
          "output_type": "execute_result"
        }
      ],
      "source": [
        "info"
      ]
    },
    {
      "cell_type": "code",
      "execution_count": null,
      "metadata": {
        "id": "CUj45z0xO1cB"
      },
      "outputs": [],
      "source": [
        "label_array_train = []\n",
        "for (data, labels) in train_dataset:\n",
        "  label_array_train.append(labels)\n",
        "index_values = np.arange(1, len(label_array_train)+1)\n",
        "column_values = ['class']\n",
        "  \n",
        "# creating the train dataframe\n",
        "df_train = pd.DataFrame(data = label_array_train, \n",
        "                  index = index_values, \n",
        "                  columns = column_values)\n",
        "\n",
        "label_array_val = []\n",
        "for (data, labels) in val_dataset:\n",
        "  label_array_val.append(labels)\n",
        "index_values = np.arange(1, len(label_array_val)+1)\n",
        "column_values = ['class']\n",
        "  \n",
        "# creating the val dataframe\n",
        "df_val = pd.DataFrame(data = label_array_val, \n",
        "                  index = index_values, \n",
        "                  columns = column_values)\n",
        "\n",
        "label_array_test = []\n",
        "for (data, labels) in test_dataset:\n",
        "  label_array_test.append(labels)\n",
        "index_values = np.arange(1, len(label_array_test)+1)\n",
        "column_values = ['class']\n",
        "  \n",
        "# creating the test dataframe\n",
        "df_test = pd.DataFrame(data = label_array_test, \n",
        "                  index = index_values, \n",
        "                  columns = column_values)"
      ]
    },
    {
      "cell_type": "code",
      "execution_count": null,
      "metadata": {
        "id": "FrBGRunJO9uS"
      },
      "outputs": [],
      "source": [
        "train_size_arange = np.arange(1, len(label_array_train)+1)\n",
        "train_1 = sum(df_train[\"class\"]==1)\n",
        "train_0 = sum(df_train[\"class\"]==0)\n",
        "train_2 = sum(df_train[\"class\"]==2)\n",
        "train_3 = sum(df_train[\"class\"]==3)\n",
        "\n",
        "val_size_arange = np.arange(1, len(label_array_val)+1)\n",
        "val_1 = sum(df_val[\"class\"]==1)\n",
        "val_0 = sum(df_val[\"class\"]==0)\n",
        "val_2 = sum(df_val[\"class\"]==2)\n",
        "val_3 = sum(df_val[\"class\"]==3)\n",
        "\n",
        "test_size_arange = np.arange(1, len(label_array_test)+1)\n",
        "test_1 = sum(df_test[\"class\"]==1)\n",
        "test_0 = sum(df_test[\"class\"]==0)\n",
        "test_2 = sum(df_test[\"class\"]==2)\n",
        "test_3 = sum(df_test[\"class\"]==3)"
      ]
    },
    {
      "cell_type": "code",
      "execution_count": null,
      "metadata": {
        "colab": {
          "base_uri": "https://localhost:8080/",
          "height": 317
        },
        "id": "x_f2kyyrPwv8",
        "outputId": "0d26d511-a5a9-4bb5-ebce-92b475cd2fc0"
      },
      "outputs": [
        {
          "output_type": "display_data",
          "data": {
            "text/html": [
              "<html>\n",
              "<head><meta charset=\"utf-8\" /></head>\n",
              "<body>\n",
              "    <div>            <script src=\"https://cdnjs.cloudflare.com/ajax/libs/mathjax/2.7.5/MathJax.js?config=TeX-AMS-MML_SVG\"></script><script type=\"text/javascript\">if (window.MathJax) {MathJax.Hub.Config({SVG: {font: \"STIX-Web\"}});}</script>                <script type=\"text/javascript\">window.PlotlyConfig = {MathJaxConfig: 'local'};</script>\n",
              "        <script src=\"https://cdn.plot.ly/plotly-2.8.3.min.js\"></script>                <div id=\"f8546c8d-a545-4af2-95a8-ef0ea1cbea29\" class=\"plotly-graph-div\" style=\"height:300px; width:600px;\"></div>            <script type=\"text/javascript\">                                    window.PLOTLYENV=window.PLOTLYENV || {};                                    if (document.getElementById(\"f8546c8d-a545-4af2-95a8-ef0ea1cbea29\")) {                    Plotly.newPlot(                        \"f8546c8d-a545-4af2-95a8-ef0ea1cbea29\",                        [{\"name\":\"Neowaskularyzacja naczyni\\u00f3wkowa\",\"x\":[\"Zbi\\u00f3r Testowy\",\"Zbi\\u00f3r Sprawdzaj\\u0105cy\",\"Zbi\\u00f3r Testuj\\u0105cy\"],\"y\":[33484,3721,250],\"type\":\"bar\"},{\"name\":\"Nukrzycowy obrz\\u0119k plamki\",\"x\":[\"Zbi\\u00f3r Testowy\",\"Zbi\\u00f3r Sprawdzaj\\u0105cy\",\"Zbi\\u00f3r Testuj\\u0105cy\"],\"y\":[10213,1135,250],\"type\":\"bar\"},{\"name\":\"Druzy tarczy nerwu wzrokowego\",\"x\":[\"Zbi\\u00f3r Testowy\",\"Zbi\\u00f3r Sprawdzaj\\u0105cy\",\"Zbi\\u00f3r Testuj\\u0105cy\"],\"y\":[7754,862,250],\"type\":\"bar\"},{\"name\":\"Zdrowe oko\",\"x\":[\"Zbi\\u00f3r Testowy\",\"Zbi\\u00f3r Sprawdzaj\\u0105cy\",\"Zbi\\u00f3r Testuj\\u0105cy\"],\"y\":[46026,5114,250],\"type\":\"bar\"}],                        {\"template\":{\"data\":{\"bar\":[{\"error_x\":{\"color\":\"#2a3f5f\"},\"error_y\":{\"color\":\"#2a3f5f\"},\"marker\":{\"line\":{\"color\":\"#E5ECF6\",\"width\":0.5},\"pattern\":{\"fillmode\":\"overlay\",\"size\":10,\"solidity\":0.2}},\"type\":\"bar\"}],\"barpolar\":[{\"marker\":{\"line\":{\"color\":\"#E5ECF6\",\"width\":0.5},\"pattern\":{\"fillmode\":\"overlay\",\"size\":10,\"solidity\":0.2}},\"type\":\"barpolar\"}],\"carpet\":[{\"aaxis\":{\"endlinecolor\":\"#2a3f5f\",\"gridcolor\":\"white\",\"linecolor\":\"white\",\"minorgridcolor\":\"white\",\"startlinecolor\":\"#2a3f5f\"},\"baxis\":{\"endlinecolor\":\"#2a3f5f\",\"gridcolor\":\"white\",\"linecolor\":\"white\",\"minorgridcolor\":\"white\",\"startlinecolor\":\"#2a3f5f\"},\"type\":\"carpet\"}],\"choropleth\":[{\"colorbar\":{\"outlinewidth\":0,\"ticks\":\"\"},\"type\":\"choropleth\"}],\"contour\":[{\"colorbar\":{\"outlinewidth\":0,\"ticks\":\"\"},\"colorscale\":[[0.0,\"#0d0887\"],[0.1111111111111111,\"#46039f\"],[0.2222222222222222,\"#7201a8\"],[0.3333333333333333,\"#9c179e\"],[0.4444444444444444,\"#bd3786\"],[0.5555555555555556,\"#d8576b\"],[0.6666666666666666,\"#ed7953\"],[0.7777777777777778,\"#fb9f3a\"],[0.8888888888888888,\"#fdca26\"],[1.0,\"#f0f921\"]],\"type\":\"contour\"}],\"contourcarpet\":[{\"colorbar\":{\"outlinewidth\":0,\"ticks\":\"\"},\"type\":\"contourcarpet\"}],\"heatmap\":[{\"colorbar\":{\"outlinewidth\":0,\"ticks\":\"\"},\"colorscale\":[[0.0,\"#0d0887\"],[0.1111111111111111,\"#46039f\"],[0.2222222222222222,\"#7201a8\"],[0.3333333333333333,\"#9c179e\"],[0.4444444444444444,\"#bd3786\"],[0.5555555555555556,\"#d8576b\"],[0.6666666666666666,\"#ed7953\"],[0.7777777777777778,\"#fb9f3a\"],[0.8888888888888888,\"#fdca26\"],[1.0,\"#f0f921\"]],\"type\":\"heatmap\"}],\"heatmapgl\":[{\"colorbar\":{\"outlinewidth\":0,\"ticks\":\"\"},\"colorscale\":[[0.0,\"#0d0887\"],[0.1111111111111111,\"#46039f\"],[0.2222222222222222,\"#7201a8\"],[0.3333333333333333,\"#9c179e\"],[0.4444444444444444,\"#bd3786\"],[0.5555555555555556,\"#d8576b\"],[0.6666666666666666,\"#ed7953\"],[0.7777777777777778,\"#fb9f3a\"],[0.8888888888888888,\"#fdca26\"],[1.0,\"#f0f921\"]],\"type\":\"heatmapgl\"}],\"histogram\":[{\"marker\":{\"pattern\":{\"fillmode\":\"overlay\",\"size\":10,\"solidity\":0.2}},\"type\":\"histogram\"}],\"histogram2d\":[{\"colorbar\":{\"outlinewidth\":0,\"ticks\":\"\"},\"colorscale\":[[0.0,\"#0d0887\"],[0.1111111111111111,\"#46039f\"],[0.2222222222222222,\"#7201a8\"],[0.3333333333333333,\"#9c179e\"],[0.4444444444444444,\"#bd3786\"],[0.5555555555555556,\"#d8576b\"],[0.6666666666666666,\"#ed7953\"],[0.7777777777777778,\"#fb9f3a\"],[0.8888888888888888,\"#fdca26\"],[1.0,\"#f0f921\"]],\"type\":\"histogram2d\"}],\"histogram2dcontour\":[{\"colorbar\":{\"outlinewidth\":0,\"ticks\":\"\"},\"colorscale\":[[0.0,\"#0d0887\"],[0.1111111111111111,\"#46039f\"],[0.2222222222222222,\"#7201a8\"],[0.3333333333333333,\"#9c179e\"],[0.4444444444444444,\"#bd3786\"],[0.5555555555555556,\"#d8576b\"],[0.6666666666666666,\"#ed7953\"],[0.7777777777777778,\"#fb9f3a\"],[0.8888888888888888,\"#fdca26\"],[1.0,\"#f0f921\"]],\"type\":\"histogram2dcontour\"}],\"mesh3d\":[{\"colorbar\":{\"outlinewidth\":0,\"ticks\":\"\"},\"type\":\"mesh3d\"}],\"parcoords\":[{\"line\":{\"colorbar\":{\"outlinewidth\":0,\"ticks\":\"\"}},\"type\":\"parcoords\"}],\"pie\":[{\"automargin\":true,\"type\":\"pie\"}],\"scatter\":[{\"marker\":{\"colorbar\":{\"outlinewidth\":0,\"ticks\":\"\"}},\"type\":\"scatter\"}],\"scatter3d\":[{\"line\":{\"colorbar\":{\"outlinewidth\":0,\"ticks\":\"\"}},\"marker\":{\"colorbar\":{\"outlinewidth\":0,\"ticks\":\"\"}},\"type\":\"scatter3d\"}],\"scattercarpet\":[{\"marker\":{\"colorbar\":{\"outlinewidth\":0,\"ticks\":\"\"}},\"type\":\"scattercarpet\"}],\"scattergeo\":[{\"marker\":{\"colorbar\":{\"outlinewidth\":0,\"ticks\":\"\"}},\"type\":\"scattergeo\"}],\"scattergl\":[{\"marker\":{\"colorbar\":{\"outlinewidth\":0,\"ticks\":\"\"}},\"type\":\"scattergl\"}],\"scattermapbox\":[{\"marker\":{\"colorbar\":{\"outlinewidth\":0,\"ticks\":\"\"}},\"type\":\"scattermapbox\"}],\"scatterpolar\":[{\"marker\":{\"colorbar\":{\"outlinewidth\":0,\"ticks\":\"\"}},\"type\":\"scatterpolar\"}],\"scatterpolargl\":[{\"marker\":{\"colorbar\":{\"outlinewidth\":0,\"ticks\":\"\"}},\"type\":\"scatterpolargl\"}],\"scatterternary\":[{\"marker\":{\"colorbar\":{\"outlinewidth\":0,\"ticks\":\"\"}},\"type\":\"scatterternary\"}],\"surface\":[{\"colorbar\":{\"outlinewidth\":0,\"ticks\":\"\"},\"colorscale\":[[0.0,\"#0d0887\"],[0.1111111111111111,\"#46039f\"],[0.2222222222222222,\"#7201a8\"],[0.3333333333333333,\"#9c179e\"],[0.4444444444444444,\"#bd3786\"],[0.5555555555555556,\"#d8576b\"],[0.6666666666666666,\"#ed7953\"],[0.7777777777777778,\"#fb9f3a\"],[0.8888888888888888,\"#fdca26\"],[1.0,\"#f0f921\"]],\"type\":\"surface\"}],\"table\":[{\"cells\":{\"fill\":{\"color\":\"#EBF0F8\"},\"line\":{\"color\":\"white\"}},\"header\":{\"fill\":{\"color\":\"#C8D4E3\"},\"line\":{\"color\":\"white\"}},\"type\":\"table\"}]},\"layout\":{\"annotationdefaults\":{\"arrowcolor\":\"#2a3f5f\",\"arrowhead\":0,\"arrowwidth\":1},\"autotypenumbers\":\"strict\",\"coloraxis\":{\"colorbar\":{\"outlinewidth\":0,\"ticks\":\"\"}},\"colorscale\":{\"diverging\":[[0,\"#8e0152\"],[0.1,\"#c51b7d\"],[0.2,\"#de77ae\"],[0.3,\"#f1b6da\"],[0.4,\"#fde0ef\"],[0.5,\"#f7f7f7\"],[0.6,\"#e6f5d0\"],[0.7,\"#b8e186\"],[0.8,\"#7fbc41\"],[0.9,\"#4d9221\"],[1,\"#276419\"]],\"sequential\":[[0.0,\"#0d0887\"],[0.1111111111111111,\"#46039f\"],[0.2222222222222222,\"#7201a8\"],[0.3333333333333333,\"#9c179e\"],[0.4444444444444444,\"#bd3786\"],[0.5555555555555556,\"#d8576b\"],[0.6666666666666666,\"#ed7953\"],[0.7777777777777778,\"#fb9f3a\"],[0.8888888888888888,\"#fdca26\"],[1.0,\"#f0f921\"]],\"sequentialminus\":[[0.0,\"#0d0887\"],[0.1111111111111111,\"#46039f\"],[0.2222222222222222,\"#7201a8\"],[0.3333333333333333,\"#9c179e\"],[0.4444444444444444,\"#bd3786\"],[0.5555555555555556,\"#d8576b\"],[0.6666666666666666,\"#ed7953\"],[0.7777777777777778,\"#fb9f3a\"],[0.8888888888888888,\"#fdca26\"],[1.0,\"#f0f921\"]]},\"colorway\":[\"#636efa\",\"#EF553B\",\"#00cc96\",\"#ab63fa\",\"#FFA15A\",\"#19d3f3\",\"#FF6692\",\"#B6E880\",\"#FF97FF\",\"#FECB52\"],\"font\":{\"color\":\"#2a3f5f\"},\"geo\":{\"bgcolor\":\"white\",\"lakecolor\":\"white\",\"landcolor\":\"#E5ECF6\",\"showlakes\":true,\"showland\":true,\"subunitcolor\":\"white\"},\"hoverlabel\":{\"align\":\"left\"},\"hovermode\":\"closest\",\"mapbox\":{\"style\":\"light\"},\"paper_bgcolor\":\"white\",\"plot_bgcolor\":\"#E5ECF6\",\"polar\":{\"angularaxis\":{\"gridcolor\":\"white\",\"linecolor\":\"white\",\"ticks\":\"\"},\"bgcolor\":\"#E5ECF6\",\"radialaxis\":{\"gridcolor\":\"white\",\"linecolor\":\"white\",\"ticks\":\"\"}},\"scene\":{\"xaxis\":{\"backgroundcolor\":\"#E5ECF6\",\"gridcolor\":\"white\",\"gridwidth\":2,\"linecolor\":\"white\",\"showbackground\":true,\"ticks\":\"\",\"zerolinecolor\":\"white\"},\"yaxis\":{\"backgroundcolor\":\"#E5ECF6\",\"gridcolor\":\"white\",\"gridwidth\":2,\"linecolor\":\"white\",\"showbackground\":true,\"ticks\":\"\",\"zerolinecolor\":\"white\"},\"zaxis\":{\"backgroundcolor\":\"#E5ECF6\",\"gridcolor\":\"white\",\"gridwidth\":2,\"linecolor\":\"white\",\"showbackground\":true,\"ticks\":\"\",\"zerolinecolor\":\"white\"}},\"shapedefaults\":{\"line\":{\"color\":\"#2a3f5f\"}},\"ternary\":{\"aaxis\":{\"gridcolor\":\"white\",\"linecolor\":\"white\",\"ticks\":\"\"},\"baxis\":{\"gridcolor\":\"white\",\"linecolor\":\"white\",\"ticks\":\"\"},\"bgcolor\":\"#E5ECF6\",\"caxis\":{\"gridcolor\":\"white\",\"linecolor\":\"white\",\"ticks\":\"\"}},\"title\":{\"x\":0.05},\"xaxis\":{\"automargin\":true,\"gridcolor\":\"white\",\"linecolor\":\"white\",\"ticks\":\"\",\"title\":{\"standoff\":15},\"zerolinecolor\":\"white\",\"zerolinewidth\":2},\"yaxis\":{\"automargin\":true,\"gridcolor\":\"white\",\"linecolor\":\"white\",\"ticks\":\"\",\"title\":{\"standoff\":15},\"zerolinecolor\":\"white\",\"zerolinewidth\":2}}},\"margin\":{\"l\":0,\"r\":20,\"b\":30,\"t\":40,\"pad\":10},\"legend\":{\"yanchor\":\"top\",\"xanchor\":\"right\"},\"title\":{\"text\":\"Ilo\\u015bci pr\\u00f3bek w zbiorach\"},\"width\":600,\"height\":300,\"yaxis\":{\"title\":{\"text\":\"Ilo\\u015b\\u0107\"}}},                        {\"responsive\": true}                    ).then(function(){\n",
              "                            \n",
              "var gd = document.getElementById('f8546c8d-a545-4af2-95a8-ef0ea1cbea29');\n",
              "var x = new MutationObserver(function (mutations, observer) {{\n",
              "        var display = window.getComputedStyle(gd).display;\n",
              "        if (!display || display === 'none') {{\n",
              "            console.log([gd, 'removed!']);\n",
              "            Plotly.purge(gd);\n",
              "            observer.disconnect();\n",
              "        }}\n",
              "}});\n",
              "\n",
              "// Listen for the removal of the full notebook cells\n",
              "var notebookContainer = gd.closest('#notebook-container');\n",
              "if (notebookContainer) {{\n",
              "    x.observe(notebookContainer, {childList: true});\n",
              "}}\n",
              "\n",
              "// Listen for the clearing of the current output cell\n",
              "var outputEl = gd.closest('.output');\n",
              "if (outputEl) {{\n",
              "    x.observe(outputEl, {childList: true});\n",
              "}}\n",
              "\n",
              "                        })                };                            </script>        </div>\n",
              "</body>\n",
              "</html>"
            ]
          },
          "metadata": {}
        }
      ],
      "source": [
        "import plotly.graph_objects as go\n",
        "sets=['Zbiór Testowy', 'Zbiór Sprawdzający', 'Zbiór Testujący']\n",
        "fig = go.Figure(data=[\n",
        "    go.Bar(name='Neowaskularyzacja naczyniówkowa', x=sets, y=[train_0, val_0, test_0]),\n",
        "    go.Bar(name='Nukrzycowy obrzęk plamki', x=sets, y=[train_1, val_1, test_1]),\n",
        "    go.Bar(name='Druzy tarczy nerwu wzrokowego', x=sets, y=[train_2, val_2, test_2]),\n",
        "    go.Bar(name='Zdrowe oko', x=sets, y=[train_3, val_3, test_3])\n",
        "    ]\n",
        "    )\n",
        "fig.update_layout(title=\"Ilości próbek w zbiorach\", width=600, height=300,\n",
        "                  margin=dict(l=00, r=20, b=30, t=40, pad=10),\n",
        "                  legend=dict(yanchor=\"top\",xanchor=\"right\"))\n",
        "\n",
        "fig.update_yaxes(title_text='Ilość')\n",
        "fig.show()"
      ]
    },
    {
      "cell_type": "code",
      "execution_count": null,
      "metadata": {
        "colab": {
          "base_uri": "https://localhost:8080/",
          "height": 361
        },
        "id": "2MQGiTjrULHF",
        "outputId": "85b5f672-0dec-413d-d7c8-6c991a78c5c9"
      },
      "outputs": [
        {
          "name": "stderr",
          "output_type": "stream",
          "text": [
            "/usr/local/lib/python3.7/dist-packages/ipykernel_launcher.py:3: FutureWarning:\n",
            "\n",
            "The input object of type 'Tensor' is an array-like implementing one of the corresponding protocols (`__array__`, `__array_interface__` or `__array_struct__`); but not a sequence (or 0-D). In the future, this object will be coerced as if it was first converted using `np.array(obj)`. To retain the old behaviour, you have to either modify the type 'Tensor', or assign to an empty array created with `np.empty(correct_shape, dtype=object)`.\n",
            "\n",
            "/usr/local/lib/python3.7/dist-packages/ipykernel_launcher.py:3: VisibleDeprecationWarning:\n",
            "\n",
            "Creating an ndarray from ragged nested sequences (which is a list-or-tuple of lists-or-tuples-or ndarrays with different lengths or shapes) is deprecated. If you meant to do this, you must specify 'dtype=object' when creating the ndarray.\n",
            "\n",
            "100%|██████████| 97477/97477 [00:20<00:00, 4657.57it/s]\n"
          ]
        },
        {
          "data": {
            "text/plain": [
              "<matplotlib.image.AxesImage at 0x7f994c8565d0>"
            ]
          },
          "execution_count": 13,
          "metadata": {},
          "output_type": "execute_result"
        },
        {
          "data": {
            "image/png": "[encoded data removed]",
            "text/plain": [
              "<Figure size 432x288 with 1 Axes>"
            ]
          },
          "metadata": {},
          "output_type": "display_data"
        }
      ],
      "source": [
        "import matplotlib.pyplot as plt\n",
        "import pandas as pd\n",
        "tr_l = np.array(train_dataset)\n",
        "tr_l.shape\n",
        "data_frame = pd.DataFrame()\n",
        "img = []\n",
        "for inputs, targets in tqdm(train_dataset):\n",
        "  img.append(inputs)\n",
        "  \n",
        "sample_pics = [img]\n",
        "pic1 = img[0].reshape(28,-1)\n",
        "pic2 = img[1].reshape(28,-1)\n",
        "pic3 = img[2].reshape(28,-1)\n",
        "plt.imshow(np.hstack((pic1,pic2, pic3)), cmap=\"inferno_r\")"
      ]
    },
    {
      "cell_type": "code",
      "execution_count": null,
      "metadata": {
        "colab": {
          "base_uri": "https://localhost:8080/",
          "height": 297
        },
        "id": "AMj4FSRrTwxY",
        "outputId": "f39038db-4056-46f9-9154-cb9c66dd119e"
      },
      "outputs": [
        {
          "data": {
            "image/png": "[encoded data removed]",
            "text/plain": [
              "<PIL.Image.Image image mode=L size=280x280 at 0x7F994C7437D0>"
            ]
          },
          "execution_count": 14,
          "metadata": {},
          "output_type": "execute_result"
        }
      ],
      "source": [
        "#or using montage\n",
        "train_dataset.montage(length=10)"
      ]
    },
    {
      "cell_type": "markdown",
      "metadata": {
        "id": "eVt4ErtFQObd"
      },
      "source": [
        "**1) Real OCT of iris**\n",
        "\n",
        "<img src=\"https://drive.google.com/uc?export=view&id=1wdjFPgPLHAHHH4AcRc4tv4opC5bBtuIK\" width=450></img>"
      ]
    },
    {
      "cell_type": "markdown",
      "metadata": {
        "id": "LerhKcj0bDZ9"
      },
      "source": [
        "#Training and testing"
      ]
    },
    {
      "cell_type": "code",
      "execution_count": null,
      "metadata": {
        "id": "H_m_r7RrJ8Me"
      },
      "outputs": [],
      "source": [
        "# an old model class for pneumonia prediction\n",
        "class ConvolutionalNetwork(nn.Module):\n",
        "    def __init__(self):\n",
        "        super().__init__()\n",
        "        self.conv1 = nn.Conv2d(1, 20, 3, 1)\n",
        "        self.conv1_bn = nn.BatchNorm2d(20)\n",
        "\n",
        "        self.conv2 = nn.Conv2d(20, 40, 3, 1)\n",
        "        self.conv2_bn = nn.BatchNorm2d(40)\n",
        "\n",
        "        self.conv3 = nn.Conv2d(40, 80, 3, 1)\n",
        "        self.conv3_bn = nn.BatchNorm2d(80)\n",
        "\n",
        "        self.conv4 = nn.Conv2d(80, 160, 3, 1)\n",
        "        self.conv4_bn = nn.BatchNorm2d(160)\n",
        "\n",
        "        self.fc1 = nn.Linear(7*7*160, 1000) #((((28-2)/2)-2)/2) = 5,..\n",
        "        self.fc1_bn = nn.BatchNorm1d(1000)\n",
        "\n",
        "        self.fc2 = nn.Linear(1000, 500)\n",
        "        self.fc2_bn = nn.BatchNorm1d(500)\n",
        "\n",
        "        self.fc3 = nn.Linear(500, 50)\n",
        "        self.fc3_bn = nn.BatchNorm1d(50)\n",
        "\n",
        "        self.fc4 = nn.Linear(50, 4) #change\n",
        "\n",
        "\n",
        "    def forward(self, X):\n",
        "        X = self.conv1(X)\n",
        "        X = F.relu(self.conv1_bn(X))  #1\n",
        "\n",
        "        X = F.max_pool2d(X, 2, 2)\n",
        "\n",
        "        X = self.conv2(X)\n",
        "        X = F.relu(self.conv2_bn(X))\n",
        "\n",
        "        X = self.conv3(X)\n",
        "        X = F.relu(self.conv3_bn(X))  #3\n",
        "\n",
        "        X = self.conv4(X)\n",
        "        X = F.relu(self.conv4_bn(X))  #4\n",
        "\n",
        "        X = X.view(-1, 7*7*160)\n",
        "\n",
        "        X = self.fc1(X)\n",
        "        X = F.relu(self.fc1_bn(X))\n",
        "        X = self.fc2(X)\n",
        "        X = F.relu(self.fc2_bn(X))\n",
        "        X = self.fc3(X)\n",
        "        X = F.relu(self.fc3_bn(X))\n",
        "        X = self.fc4(X)\n",
        "        return F.softmax(X, dim=1)"
      ]
    },
    {
      "cell_type": "code",
      "execution_count": null,
      "metadata": {
        "colab": {
          "base_uri": "https://localhost:8080/"
        },
        "id": "hv_dz8xRjHaO",
        "outputId": "1869c7e1-ee18-4b28-affd-43a837d44826"
      },
      "outputs": [
        {
          "output_type": "execute_result",
          "data": {
            "text/plain": [
              "ConvolutionalNetwork(\n",
              "  (conv1): Conv2d(1, 20, kernel_size=(3, 3), stride=(1, 1))\n",
              "  (conv1_bn): BatchNorm2d(20, eps=1e-05, momentum=0.1, affine=True, track_running_stats=True)\n",
              "  (conv2): Conv2d(20, 40, kernel_size=(3, 3), stride=(1, 1))\n",
              "  (conv2_bn): BatchNorm2d(40, eps=1e-05, momentum=0.1, affine=True, track_running_stats=True)\n",
              "  (conv3): Conv2d(40, 80, kernel_size=(3, 3), stride=(1, 1))\n",
              "  (conv3_bn): BatchNorm2d(80, eps=1e-05, momentum=0.1, affine=True, track_running_stats=True)\n",
              "  (conv4): Conv2d(80, 160, kernel_size=(3, 3), stride=(1, 1))\n",
              "  (conv4_bn): BatchNorm2d(160, eps=1e-05, momentum=0.1, affine=True, track_running_stats=True)\n",
              "  (fc1): Linear(in_features=7840, out_features=1000, bias=True)\n",
              "  (fc1_bn): BatchNorm1d(1000, eps=1e-05, momentum=0.1, affine=True, track_running_stats=True)\n",
              "  (fc2): Linear(in_features=1000, out_features=500, bias=True)\n",
              "  (fc2_bn): BatchNorm1d(500, eps=1e-05, momentum=0.1, affine=True, track_running_stats=True)\n",
              "  (fc3): Linear(in_features=500, out_features=50, bias=True)\n",
              "  (fc3_bn): BatchNorm1d(50, eps=1e-05, momentum=0.1, affine=True, track_running_stats=True)\n",
              "  (fc4): Linear(in_features=50, out_features=2, bias=True)\n",
              ")"
            ]
          },
          "metadata": {},
          "execution_count": 21
        }
      ],
      "source": [
        "#Loading model from pneumonia classification\n",
        "model_oct = ConvolutionalNetwork()\n",
        "model_oct.load_state_dict(torch.load('/content/drive/MyDrive/Colab Notebooks/Med_MNIST_inż/model_pneumonia_91_the_best.pth'))\n",
        "model_oct.eval()"
      ]
    },
    {
      "cell_type": "code",
      "execution_count": null,
      "metadata": {
        "id": "U6rFDZem5I9M"
      },
      "outputs": [],
      "source": [
        "#Freezing all of the params to train only output layer\n",
        "for param in model_oct.parameters():\n",
        "  param.requires_grad = False  #false for freeze"
      ]
    },
    {
      "cell_type": "code",
      "execution_count": null,
      "metadata": {
        "colab": {
          "base_uri": "https://localhost:8080/"
        },
        "id": "RAz7Dga72H-g",
        "outputId": "3719de5c-6859-42f7-f93e-4ee4da16050c"
      },
      "outputs": [
        {
          "output_type": "execute_result",
          "data": {
            "text/plain": [
              "ConvolutionalNetwork(\n",
              "  (conv1): Conv2d(1, 20, kernel_size=(3, 3), stride=(1, 1))\n",
              "  (conv1_bn): BatchNorm2d(20, eps=1e-05, momentum=0.1, affine=True, track_running_stats=True)\n",
              "  (conv2): Conv2d(20, 40, kernel_size=(3, 3), stride=(1, 1))\n",
              "  (conv2_bn): BatchNorm2d(40, eps=1e-05, momentum=0.1, affine=True, track_running_stats=True)\n",
              "  (conv3): Conv2d(40, 80, kernel_size=(3, 3), stride=(1, 1))\n",
              "  (conv3_bn): BatchNorm2d(80, eps=1e-05, momentum=0.1, affine=True, track_running_stats=True)\n",
              "  (conv4): Conv2d(80, 160, kernel_size=(3, 3), stride=(1, 1))\n",
              "  (conv4_bn): BatchNorm2d(160, eps=1e-05, momentum=0.1, affine=True, track_running_stats=True)\n",
              "  (fc1): Linear(in_features=7840, out_features=1000, bias=True)\n",
              "  (fc1_bn): BatchNorm1d(1000, eps=1e-05, momentum=0.1, affine=True, track_running_stats=True)\n",
              "  (fc2): Linear(in_features=1000, out_features=500, bias=True)\n",
              "  (fc2_bn): BatchNorm1d(500, eps=1e-05, momentum=0.1, affine=True, track_running_stats=True)\n",
              "  (fc3): Linear(in_features=500, out_features=50, bias=True)\n",
              "  (fc3_bn): BatchNorm1d(50, eps=1e-05, momentum=0.1, affine=True, track_running_stats=True)\n",
              "  (fc4): Linear(in_features=50, out_features=4, bias=True)\n",
              ")"
            ]
          },
          "metadata": {},
          "execution_count": 22
        }
      ],
      "source": [
        "#Changing the last fc layer to adopt it to the new model\n",
        "n_in_features = model_oct.fc4.in_features  #Getting in features from fc4(last layer)\n",
        "model_oct.fc4 = nn.Linear(n_in_features, n_classes)  #Changing fc4 to meet our demands\n",
        "model_oct.to(device)\n",
        "\n",
        "loss_function = nn.CrossEntropyLoss() #for multiclass.\n",
        "optimizer = torch.optim.Adam(model_oct.parameters(), lr=0.0005)\n",
        "model_oct"
      ]
    },
    {
      "cell_type": "code",
      "execution_count": null,
      "metadata": {
        "id": "m3W3H6W514wI"
      },
      "outputs": [],
      "source": [
        "def get_accuracy(model, test_loader):\n",
        "  correct = 0\n",
        "  total = 0\n",
        "  with torch.no_grad():\n",
        "      for (data, labels) in test_loader:\n",
        "          net_out = model(data.to(device)) \n",
        "          predicted_labels = []\n",
        "          for row in net_out:\n",
        "            predicted_labels.append(torch.argmax(row).to(device))\n",
        "\n",
        "          for i, object in enumerate(predicted_labels):\n",
        "              if predicted_labels[i].to(device) == labels[i].to(device):\n",
        "                correct += 1\n",
        "              total += 1\n",
        "  return correct/total"
      ]
    },
    {
      "cell_type": "code",
      "execution_count": null,
      "metadata": {
        "id": "7RPEam1PIg93"
      },
      "outputs": [],
      "source": [
        "from tqdm.notebook import tqdm\n",
        "min_valid_loss = np.inf\n",
        "best_both = 0\n",
        "MODELPATHAGE = \"/content/drive/MyDrive/Colab Notebooks/Med_MNIST_inż/model_oct.pth\"\n",
        "\n",
        "historical_train_loss = []\n",
        "historical_validation_loss = []\n",
        "epochs = []\n",
        "i = 0\n",
        "best_acc = 0\n",
        "\n",
        "for epoch in range(NUM_EPOCHS):\n",
        "  \n",
        "  train_loss = 0.0\n",
        "\n",
        "#  TRAINING\n",
        "  for (data, labels) in tqdm(train_loader):\n",
        "    labels_1hot_t = []\n",
        "    optimizer.zero_grad()  #cleaning previous gradients\n",
        "    target = model_oct(data.to(device))  #foreward pass\n",
        "    for l in labels:\n",
        "      labels_1hot_t.append(np.eye(n_classes)[l])\n",
        "    loss = loss_function(target.to(device), torch.Tensor(labels_1hot_t).to(device))\n",
        "    loss.backward()  #backward pass\n",
        "    optimizer.step()  #updating weights\n",
        "    train_loss += loss.item()\n",
        "    histloss = loss\n",
        "    i+=1\n",
        "\n",
        "#  VALIDATION\n",
        "  validation_loss = 0.0\n",
        "  model_oct.eval() \n",
        "\n",
        "  for (data, labels) in val_loader:\n",
        "    labels_1hot_v = []\n",
        "    target = model_oct(data.to(device))  #foreward pass\n",
        "    for l in labels:\n",
        "      labels_1hot_v.append(np.eye(n_classes)[l])\n",
        "    loss = loss_function(target.to(device), torch.Tensor(labels_1hot_v).to(device))\n",
        "    validation_loss += loss.item()\n",
        "    hisvloss = loss\n",
        "\n",
        "  historical_train_loss.append(histloss)\n",
        "  historical_validation_loss.append(hisvloss)\n",
        "\n",
        "#  TESTING\n",
        "  y_pred = []\n",
        "  y_true = []\n",
        "  with torch.no_grad():\n",
        "    for (data, labels) in test_loader:\n",
        "        net_out = model_oct(data.to(device))\n",
        "        for row in net_out:\n",
        "          y_pred.append(torch.argmax(row.cpu()).numpy()) # Save Prediction\n",
        "        for row in labels:\n",
        "          y_true.append(row.data.cpu().numpy()) # Save Truth\n",
        "\n",
        "  p_s = 45 * precision_score(y_true, y_pred, average='weighted', zero_division=\"warn\")\n",
        "  acc = 55 * get_accuracy(model_oct, test_loader)\n",
        "\n",
        "\n",
        "  if p_s*acc > best_both:\n",
        "    best_both = p_s*acc\n",
        "    model_oct.to(device)\n",
        "    torch.save(model_oct.state_dict(), MODELPATHAGE)\n",
        "    print('model Saved')\n",
        "\n",
        "  epochs.append(epoch+1)\n",
        "\n",
        "  print(f'Epoch {epoch + 1}.\\n\\\n",
        "  Training loss: {round(train_loss/len(train_loader),4)}\\n\\\n",
        "  Validation loss: {round(validation_loss/len(val_loader),4)}\\n\\\n",
        "  Accuracy over test data: {round(acc*100/55,4)}%\\n\\\n",
        "  Precission over test data: {round(p_s/45,3)}\\n')"
      ]
    },
    {
      "cell_type": "code",
      "execution_count": null,
      "metadata": {
        "id": "HfeSti0H97cd"
      },
      "outputs": [],
      "source": [
        "a = [ loss.cpu().detach().numpy() for loss in historical_train_loss]\n",
        "b = [ loss.cpu().detach().numpy() for loss in historical_validation_loss]\n",
        "t  = np.arange(1, NUM_EPOCHS+1)"
      ]
    },
    {
      "cell_type": "code",
      "execution_count": null,
      "metadata": {
        "id": "rmgnoQFdXA52",
        "colab": {
          "base_uri": "https://localhost:8080/",
          "height": 438
        },
        "outputId": "8057d9cf-d63d-42da-bf14-a4f3d8c4803c"
      },
      "outputs": [
        {
          "output_type": "stream",
          "name": "stderr",
          "text": [
            "/usr/local/lib/python3.7/dist-packages/plotly/graph_objs/_deprecations.py:385: DeprecationWarning: plotly.graph_objs.Line is deprecated.\n",
            "Please replace it with one of the following more specific types\n",
            "  - plotly.graph_objs.scatter.Line\n",
            "  - plotly.graph_objs.layout.shape.Line\n",
            "  - etc.\n",
            "\n",
            "  DeprecationWarning,\n"
          ]
        },
        {
          "output_type": "display_data",
          "data": {
            "text/html": [
              "<html>\n",
              "<head><meta charset=\"utf-8\" /></head>\n",
              "<body>\n",
              "    <div>            <script src=\"https://cdnjs.cloudflare.com/ajax/libs/mathjax/2.7.5/MathJax.js?config=TeX-AMS-MML_SVG\"></script><script type=\"text/javascript\">if (window.MathJax) {MathJax.Hub.Config({SVG: {font: \"STIX-Web\"}});}</script>                <script type=\"text/javascript\">window.PlotlyConfig = {MathJaxConfig: 'local'};</script>\n",
              "        <script src=\"https://cdn.plot.ly/plotly-2.8.3.min.js\"></script>                <div id=\"0268651b-aadd-4c32-9f9b-164c735c1010\" class=\"plotly-graph-div\" style=\"height:300px; width:600px;\"></div>            <script type=\"text/javascript\">                                    window.PLOTLYENV=window.PLOTLYENV || {};                                    if (document.getElementById(\"0268651b-aadd-4c32-9f9b-164c735c1010\")) {                    Plotly.newPlot(                        \"0268651b-aadd-4c32-9f9b-164c735c1010\",                        [{\"name\":\"Train loss\",\"x\":[1,2,3,4,5,6,7,8,9,10,11,12,13,14,15,16,17,18,19,20,21,22,23,24,25,26,27,28,29,30,31,32,33,34,35,36,37,38,39,40,41,42,43,44,45,46,47,48,49,50,51,52,53,54,55,56,57,58,59,60,61,62,63,64,65,66,67,68,69,70,71,72,73,74,75,76,77,78,79,80,81,82,83,84,85,86,87,88,89,90,91,92,93,94,95,96,97,98,99,100],\"y\":[1.157265067100525,1.1377571821212769,1.0681614875793457,0.8907745480537415,1.0293817520141602,0.7437563538551331,0.8865256309509277,1.3150997161865234,0.7436684370040894,1.0293827056884766,0.889366626739502,0.8865256309509277,0.8865256309509277,0.7436684370040894,0.7436684370040894,0.8865256309509277,1.0293827056884766,1.0293827056884766,0.7438145279884338,0.7436684370040894,1.0293827056884766,1.0293827056884766,1.0293538570404053,1.172239899635315,0.8865256309509277,1.172239899635315,1.172239899635315,1.172239899635315,1.3150970935821533,1.3150970935821533,1.172239899635315],\"type\":\"scatter\"},{\"name\":\"Val loss\",\"x\":[1,2,3,4,5,6,7,8,9,10,11,12,13,14,15,16,17,18,19,20,21,22,23,24,25,26,27,28,29,30,31,32,33,34,35,36,37,38,39,40,41,42,43,44,45,46,47,48,49,50,51,52,53,54,55,56,57,58,59,60,61,62,63,64,65,66,67,68,69,70,71,72,73,74,75,76,77,78,79,80,81,82,83,84,85,86,87,88,89,90,91,92,93,94,95,96,97,98,99,100],\"y\":[1.046879529953003,1.004765272140503,1.0201939344406128,1.041135311126709,0.9434053897857666,0.9775257110595703,0.9521524906158447,0.8943350911140442,0.9828832149505615,0.902348518371582,0.9299671649932861,0.8962000012397766,0.9064098596572876,0.84871506690979,0.8744884729385376,0.8993548154830933,0.9536501169204712,0.9624133706092834,0.9107025265693665,1.125389814376831,0.8999184370040894,0.9001480340957642,1.0249184370040894,1.1267962455749512,1.1186684370040894,1.1186684370040894,1.1496751308441162,1.0874184370040894,1.2749184370040894,1.2436684370040894,1.5249184370040894],\"type\":\"scatter\"}],                        {\"template\":{\"data\":{\"bar\":[{\"error_x\":{\"color\":\"#2a3f5f\"},\"error_y\":{\"color\":\"#2a3f5f\"},\"marker\":{\"line\":{\"color\":\"#E5ECF6\",\"width\":0.5},\"pattern\":{\"fillmode\":\"overlay\",\"size\":10,\"solidity\":0.2}},\"type\":\"bar\"}],\"barpolar\":[{\"marker\":{\"line\":{\"color\":\"#E5ECF6\",\"width\":0.5},\"pattern\":{\"fillmode\":\"overlay\",\"size\":10,\"solidity\":0.2}},\"type\":\"barpolar\"}],\"carpet\":[{\"aaxis\":{\"endlinecolor\":\"#2a3f5f\",\"gridcolor\":\"white\",\"linecolor\":\"white\",\"minorgridcolor\":\"white\",\"startlinecolor\":\"#2a3f5f\"},\"baxis\":{\"endlinecolor\":\"#2a3f5f\",\"gridcolor\":\"white\",\"linecolor\":\"white\",\"minorgridcolor\":\"white\",\"startlinecolor\":\"#2a3f5f\"},\"type\":\"carpet\"}],\"choropleth\":[{\"colorbar\":{\"outlinewidth\":0,\"ticks\":\"\"},\"type\":\"choropleth\"}],\"contour\":[{\"colorbar\":{\"outlinewidth\":0,\"ticks\":\"\"},\"colorscale\":[[0.0,\"#0d0887\"],[0.1111111111111111,\"#46039f\"],[0.2222222222222222,\"#7201a8\"],[0.3333333333333333,\"#9c179e\"],[0.4444444444444444,\"#bd3786\"],[0.5555555555555556,\"#d8576b\"],[0.6666666666666666,\"#ed7953\"],[0.7777777777777778,\"#fb9f3a\"],[0.8888888888888888,\"#fdca26\"],[1.0,\"#f0f921\"]],\"type\":\"contour\"}],\"contourcarpet\":[{\"colorbar\":{\"outlinewidth\":0,\"ticks\":\"\"},\"type\":\"contourcarpet\"}],\"heatmap\":[{\"colorbar\":{\"outlinewidth\":0,\"ticks\":\"\"},\"colorscale\":[[0.0,\"#0d0887\"],[0.1111111111111111,\"#46039f\"],[0.2222222222222222,\"#7201a8\"],[0.3333333333333333,\"#9c179e\"],[0.4444444444444444,\"#bd3786\"],[0.5555555555555556,\"#d8576b\"],[0.6666666666666666,\"#ed7953\"],[0.7777777777777778,\"#fb9f3a\"],[0.8888888888888888,\"#fdca26\"],[1.0,\"#f0f921\"]],\"type\":\"heatmap\"}],\"heatmapgl\":[{\"colorbar\":{\"outlinewidth\":0,\"ticks\":\"\"},\"colorscale\":[[0.0,\"#0d0887\"],[0.1111111111111111,\"#46039f\"],[0.2222222222222222,\"#7201a8\"],[0.3333333333333333,\"#9c179e\"],[0.4444444444444444,\"#bd3786\"],[0.5555555555555556,\"#d8576b\"],[0.6666666666666666,\"#ed7953\"],[0.7777777777777778,\"#fb9f3a\"],[0.8888888888888888,\"#fdca26\"],[1.0,\"#f0f921\"]],\"type\":\"heatmapgl\"}],\"histogram\":[{\"marker\":{\"pattern\":{\"fillmode\":\"overlay\",\"size\":10,\"solidity\":0.2}},\"type\":\"histogram\"}],\"histogram2d\":[{\"colorbar\":{\"outlinewidth\":0,\"ticks\":\"\"},\"colorscale\":[[0.0,\"#0d0887\"],[0.1111111111111111,\"#46039f\"],[0.2222222222222222,\"#7201a8\"],[0.3333333333333333,\"#9c179e\"],[0.4444444444444444,\"#bd3786\"],[0.5555555555555556,\"#d8576b\"],[0.6666666666666666,\"#ed7953\"],[0.7777777777777778,\"#fb9f3a\"],[0.8888888888888888,\"#fdca26\"],[1.0,\"#f0f921\"]],\"type\":\"histogram2d\"}],\"histogram2dcontour\":[{\"colorbar\":{\"outlinewidth\":0,\"ticks\":\"\"},\"colorscale\":[[0.0,\"#0d0887\"],[0.1111111111111111,\"#46039f\"],[0.2222222222222222,\"#7201a8\"],[0.3333333333333333,\"#9c179e\"],[0.4444444444444444,\"#bd3786\"],[0.5555555555555556,\"#d8576b\"],[0.6666666666666666,\"#ed7953\"],[0.7777777777777778,\"#fb9f3a\"],[0.8888888888888888,\"#fdca26\"],[1.0,\"#f0f921\"]],\"type\":\"histogram2dcontour\"}],\"mesh3d\":[{\"colorbar\":{\"outlinewidth\":0,\"ticks\":\"\"},\"type\":\"mesh3d\"}],\"parcoords\":[{\"line\":{\"colorbar\":{\"outlinewidth\":0,\"ticks\":\"\"}},\"type\":\"parcoords\"}],\"pie\":[{\"automargin\":true,\"type\":\"pie\"}],\"scatter\":[{\"marker\":{\"colorbar\":{\"outlinewidth\":0,\"ticks\":\"\"}},\"type\":\"scatter\"}],\"scatter3d\":[{\"line\":{\"colorbar\":{\"outlinewidth\":0,\"ticks\":\"\"}},\"marker\":{\"colorbar\":{\"outlinewidth\":0,\"ticks\":\"\"}},\"type\":\"scatter3d\"}],\"scattercarpet\":[{\"marker\":{\"colorbar\":{\"outlinewidth\":0,\"ticks\":\"\"}},\"type\":\"scattercarpet\"}],\"scattergeo\":[{\"marker\":{\"colorbar\":{\"outlinewidth\":0,\"ticks\":\"\"}},\"type\":\"scattergeo\"}],\"scattergl\":[{\"marker\":{\"colorbar\":{\"outlinewidth\":0,\"ticks\":\"\"}},\"type\":\"scattergl\"}],\"scattermapbox\":[{\"marker\":{\"colorbar\":{\"outlinewidth\":0,\"ticks\":\"\"}},\"type\":\"scattermapbox\"}],\"scatterpolar\":[{\"marker\":{\"colorbar\":{\"outlinewidth\":0,\"ticks\":\"\"}},\"type\":\"scatterpolar\"}],\"scatterpolargl\":[{\"marker\":{\"colorbar\":{\"outlinewidth\":0,\"ticks\":\"\"}},\"type\":\"scatterpolargl\"}],\"scatterternary\":[{\"marker\":{\"colorbar\":{\"outlinewidth\":0,\"ticks\":\"\"}},\"type\":\"scatterternary\"}],\"surface\":[{\"colorbar\":{\"outlinewidth\":0,\"ticks\":\"\"},\"colorscale\":[[0.0,\"#0d0887\"],[0.1111111111111111,\"#46039f\"],[0.2222222222222222,\"#7201a8\"],[0.3333333333333333,\"#9c179e\"],[0.4444444444444444,\"#bd3786\"],[0.5555555555555556,\"#d8576b\"],[0.6666666666666666,\"#ed7953\"],[0.7777777777777778,\"#fb9f3a\"],[0.8888888888888888,\"#fdca26\"],[1.0,\"#f0f921\"]],\"type\":\"surface\"}],\"table\":[{\"cells\":{\"fill\":{\"color\":\"#EBF0F8\"},\"line\":{\"color\":\"white\"}},\"header\":{\"fill\":{\"color\":\"#C8D4E3\"},\"line\":{\"color\":\"white\"}},\"type\":\"table\"}]},\"layout\":{\"annotationdefaults\":{\"arrowcolor\":\"#2a3f5f\",\"arrowhead\":0,\"arrowwidth\":1},\"autotypenumbers\":\"strict\",\"coloraxis\":{\"colorbar\":{\"outlinewidth\":0,\"ticks\":\"\"}},\"colorscale\":{\"diverging\":[[0,\"#8e0152\"],[0.1,\"#c51b7d\"],[0.2,\"#de77ae\"],[0.3,\"#f1b6da\"],[0.4,\"#fde0ef\"],[0.5,\"#f7f7f7\"],[0.6,\"#e6f5d0\"],[0.7,\"#b8e186\"],[0.8,\"#7fbc41\"],[0.9,\"#4d9221\"],[1,\"#276419\"]],\"sequential\":[[0.0,\"#0d0887\"],[0.1111111111111111,\"#46039f\"],[0.2222222222222222,\"#7201a8\"],[0.3333333333333333,\"#9c179e\"],[0.4444444444444444,\"#bd3786\"],[0.5555555555555556,\"#d8576b\"],[0.6666666666666666,\"#ed7953\"],[0.7777777777777778,\"#fb9f3a\"],[0.8888888888888888,\"#fdca26\"],[1.0,\"#f0f921\"]],\"sequentialminus\":[[0.0,\"#0d0887\"],[0.1111111111111111,\"#46039f\"],[0.2222222222222222,\"#7201a8\"],[0.3333333333333333,\"#9c179e\"],[0.4444444444444444,\"#bd3786\"],[0.5555555555555556,\"#d8576b\"],[0.6666666666666666,\"#ed7953\"],[0.7777777777777778,\"#fb9f3a\"],[0.8888888888888888,\"#fdca26\"],[1.0,\"#f0f921\"]]},\"colorway\":[\"#636efa\",\"#EF553B\",\"#00cc96\",\"#ab63fa\",\"#FFA15A\",\"#19d3f3\",\"#FF6692\",\"#B6E880\",\"#FF97FF\",\"#FECB52\"],\"font\":{\"color\":\"#2a3f5f\"},\"geo\":{\"bgcolor\":\"white\",\"lakecolor\":\"white\",\"landcolor\":\"#E5ECF6\",\"showlakes\":true,\"showland\":true,\"subunitcolor\":\"white\"},\"hoverlabel\":{\"align\":\"left\"},\"hovermode\":\"closest\",\"mapbox\":{\"style\":\"light\"},\"paper_bgcolor\":\"white\",\"plot_bgcolor\":\"#E5ECF6\",\"polar\":{\"angularaxis\":{\"gridcolor\":\"white\",\"linecolor\":\"white\",\"ticks\":\"\"},\"bgcolor\":\"#E5ECF6\",\"radialaxis\":{\"gridcolor\":\"white\",\"linecolor\":\"white\",\"ticks\":\"\"}},\"scene\":{\"xaxis\":{\"backgroundcolor\":\"#E5ECF6\",\"gridcolor\":\"white\",\"gridwidth\":2,\"linecolor\":\"white\",\"showbackground\":true,\"ticks\":\"\",\"zerolinecolor\":\"white\"},\"yaxis\":{\"backgroundcolor\":\"#E5ECF6\",\"gridcolor\":\"white\",\"gridwidth\":2,\"linecolor\":\"white\",\"showbackground\":true,\"ticks\":\"\",\"zerolinecolor\":\"white\"},\"zaxis\":{\"backgroundcolor\":\"#E5ECF6\",\"gridcolor\":\"white\",\"gridwidth\":2,\"linecolor\":\"white\",\"showbackground\":true,\"ticks\":\"\",\"zerolinecolor\":\"white\"}},\"shapedefaults\":{\"line\":{\"color\":\"#2a3f5f\"}},\"ternary\":{\"aaxis\":{\"gridcolor\":\"white\",\"linecolor\":\"white\",\"ticks\":\"\"},\"baxis\":{\"gridcolor\":\"white\",\"linecolor\":\"white\",\"ticks\":\"\"},\"bgcolor\":\"#E5ECF6\",\"caxis\":{\"gridcolor\":\"white\",\"linecolor\":\"white\",\"ticks\":\"\"}},\"title\":{\"x\":0.05},\"xaxis\":{\"automargin\":true,\"gridcolor\":\"white\",\"linecolor\":\"white\",\"ticks\":\"\",\"title\":{\"standoff\":15},\"zerolinecolor\":\"white\",\"zerolinewidth\":2},\"yaxis\":{\"automargin\":true,\"gridcolor\":\"white\",\"linecolor\":\"white\",\"ticks\":\"\",\"title\":{\"standoff\":15},\"zerolinecolor\":\"white\",\"zerolinewidth\":2}}},\"margin\":{\"l\":0,\"r\":20,\"b\":30,\"t\":40,\"pad\":10},\"legend\":{\"yanchor\":\"top\",\"xanchor\":\"right\"},\"title\":{\"text\":\"Loss over epochs\"},\"width\":600,\"height\":300,\"xaxis\":{\"title\":{\"text\":\"Epoch\"}},\"yaxis\":{\"title\":{\"text\":\"BCEloss\"}}},                        {\"responsive\": true}                    ).then(function(){\n",
              "                            \n",
              "var gd = document.getElementById('0268651b-aadd-4c32-9f9b-164c735c1010');\n",
              "var x = new MutationObserver(function (mutations, observer) {{\n",
              "        var display = window.getComputedStyle(gd).display;\n",
              "        if (!display || display === 'none') {{\n",
              "            console.log([gd, 'removed!']);\n",
              "            Plotly.purge(gd);\n",
              "            observer.disconnect();\n",
              "        }}\n",
              "}});\n",
              "\n",
              "// Listen for the removal of the full notebook cells\n",
              "var notebookContainer = gd.closest('#notebook-container');\n",
              "if (notebookContainer) {{\n",
              "    x.observe(notebookContainer, {childList: true});\n",
              "}}\n",
              "\n",
              "// Listen for the clearing of the current output cell\n",
              "var outputEl = gd.closest('.output');\n",
              "if (outputEl) {{\n",
              "    x.observe(outputEl, {childList: true});\n",
              "}}\n",
              "\n",
              "                        })                };                            </script>        </div>\n",
              "</body>\n",
              "</html>"
            ]
          },
          "metadata": {}
        }
      ],
      "source": [
        "import plotly.graph_objects as go\n",
        "sets=['Train Dataset', 'Val Dataset', 'Test Dataset']\n",
        "fig = go.Figure(data=[\n",
        "    go.Line(name='Train loss', x=t, y=a),\n",
        "    go.Line(name='Val loss', x=t, y=b)]\n",
        "    )\n",
        "fig.update_layout(title=\"Loss over epochs\", width=600, height=300,\n",
        "                  margin=dict(l=00, r=20, b=30, t=40, pad=10),\n",
        "                  legend=dict(yanchor=\"top\",xanchor=\"right\"))\n",
        "fig.update_xaxes(title_text='Epoch')\n",
        "fig.update_yaxes(title_text='BCEloss')\n",
        "fig.show()"
      ]
    },
    {
      "cell_type": "markdown",
      "source": [
        "#Testing saved model"
      ],
      "metadata": {
        "id": "x9mEhU6KBTLG"
      }
    },
    {
      "cell_type": "code",
      "execution_count": null,
      "metadata": {
        "id": "ZOaxrjJe-NVJ",
        "colab": {
          "base_uri": "https://localhost:8080/"
        },
        "outputId": "e266a3ad-7ecc-4502-8b7c-40f3d0de7f8c"
      },
      "outputs": [
        {
          "output_type": "execute_result",
          "data": {
            "text/plain": [
              "ConvolutionalNetwork(\n",
              "  (conv1): Conv2d(1, 20, kernel_size=(3, 3), stride=(1, 1))\n",
              "  (conv1_bn): BatchNorm2d(20, eps=1e-05, momentum=0.1, affine=True, track_running_stats=True)\n",
              "  (conv2): Conv2d(20, 40, kernel_size=(3, 3), stride=(1, 1))\n",
              "  (conv2_bn): BatchNorm2d(40, eps=1e-05, momentum=0.1, affine=True, track_running_stats=True)\n",
              "  (conv3): Conv2d(40, 80, kernel_size=(3, 3), stride=(1, 1))\n",
              "  (conv3_bn): BatchNorm2d(80, eps=1e-05, momentum=0.1, affine=True, track_running_stats=True)\n",
              "  (conv4): Conv2d(80, 160, kernel_size=(3, 3), stride=(1, 1))\n",
              "  (conv4_bn): BatchNorm2d(160, eps=1e-05, momentum=0.1, affine=True, track_running_stats=True)\n",
              "  (fc1): Linear(in_features=7840, out_features=1000, bias=True)\n",
              "  (fc1_bn): BatchNorm1d(1000, eps=1e-05, momentum=0.1, affine=True, track_running_stats=True)\n",
              "  (fc2): Linear(in_features=1000, out_features=500, bias=True)\n",
              "  (fc2_bn): BatchNorm1d(500, eps=1e-05, momentum=0.1, affine=True, track_running_stats=True)\n",
              "  (fc3): Linear(in_features=500, out_features=50, bias=True)\n",
              "  (fc3_bn): BatchNorm1d(50, eps=1e-05, momentum=0.1, affine=True, track_running_stats=True)\n",
              "  (fc4): Linear(in_features=50, out_features=4, bias=True)\n",
              ")"
            ]
          },
          "metadata": {},
          "execution_count": 10
        }
      ],
      "source": [
        "model_oct = ConvolutionalNetwork()\n",
        "model_oct.to(device)\n",
        "model_oct.load_state_dict(torch.load('/content/drive/MyDrive/Colab Notebooks/Med_MNIST_inż/model_oct_77.pth'))\n",
        "model_oct.eval()"
      ]
    },
    {
      "cell_type": "code",
      "execution_count": null,
      "metadata": {
        "id": "4ABt6RF_cD-m",
        "colab": {
          "base_uri": "https://localhost:8080/"
        },
        "outputId": "47580aba-9963-4b75-94e5-d110d291c56b"
      },
      "outputs": [
        {
          "output_type": "stream",
          "name": "stdout",
          "text": [
            "Accuracy:\n",
            "-train: 0.8130328179980919\n",
            "-val: 0.7998522895125554\n",
            "-test: 0.76\n"
          ]
        }
      ],
      "source": [
        "acc_train = get_accuracy(model_oct, train2_loader)\n",
        "acc_val = get_accuracy(model_oct, val_loader)\n",
        "acc_test = get_accuracy(model_oct, test_loader)\n",
        "\n",
        "print(f'Accuracy:\\n-train: {acc_train}\\n-val: {acc_val}\\n-test: {acc_test}')"
      ]
    },
    {
      "cell_type": "code",
      "source": [
        "print(f'Ac_0={229/(229+18+3)}, Ac_1={206/(206+33+11)},\\\n",
        "Ac_2={132/(132+69+13+36)}, Ac_3={193/(193+13+13)}')"
      ],
      "metadata": {
        "colab": {
          "base_uri": "https://localhost:8080/"
        },
        "id": "obhMBzf78vd6",
        "outputId": "bf7ba8e8-1f87-4ddb-b5cc-45d54405232a"
      },
      "execution_count": null,
      "outputs": [
        {
          "output_type": "stream",
          "name": "stdout",
          "text": [
            "Ac_0=0.916, Ac_1=0.824,Ac_2=0.528, Ac_3=0.8812785388127854\n"
          ]
        }
      ]
    },
    {
      "cell_type": "code",
      "execution_count": null,
      "metadata": {
        "id": "XJk6OuKcW258"
      },
      "outputs": [],
      "source": [
        "y_pred = []\n",
        "y_true = []\n",
        "# iterate over test data\n",
        "with torch.no_grad():\n",
        "  for (data, labels) in test_loader:\n",
        "        net_out = model_oct(data.to(device))\n",
        "        for row in net_out:\n",
        "          y_pred.append(torch.argmax(row.cpu()).numpy()) # Save Prediction\n",
        "        for row in labels:\n",
        "          y_true.append(row.data.cpu().numpy()) # Save Truth"
      ]
    },
    {
      "cell_type": "code",
      "execution_count": null,
      "metadata": {
        "id": "GDTfl26GUZpS",
        "colab": {
          "base_uri": "https://localhost:8080/",
          "height": 497
        },
        "outputId": "9a8c5333-2b9d-42f3-8c51-49aefac00bbe"
      },
      "outputs": [
        {
          "output_type": "execute_result",
          "data": {
            "text/plain": [
              "array([[229,  18,   3,   0],\n",
              "       [ 33, 206,   4,   7],\n",
              "       [ 69,  13, 132,  36],\n",
              "       [  7,   7,  43, 193]])"
            ]
          },
          "metadata": {},
          "execution_count": 15
        },
        {
          "output_type": "display_data",
          "data": {
            "text/plain": [
              "<Figure size 864x504 with 2 Axes>"
            ],
            "image/png": "[encoded data removed]"
          },
          "metadata": {
            "needs_background": "light"
          }
        }
      ],
      "source": [
        "#confusion\n",
        "# constant for classes\n",
        "classes = ('0', '1', '2', '3')\n",
        "# Build confusion matrix\n",
        "cf_matrix = confusion_matrix(y_true, y_pred)\n",
        "df_cm = pd.DataFrame(cf_matrix/len(y_true), index = [i for i in classes],\n",
        "                     columns = [i for i in classes])\n",
        "plt.figure(figsize = (12,7))\n",
        "sn.heatmap(df_cm, annot=True)\n",
        "plt.savefig('output.png')\n",
        "cf_matrix"
      ]
    },
    {
      "cell_type": "code",
      "execution_count": null,
      "metadata": {
        "id": "XYjueunGUcN1"
      },
      "outputs": [],
      "source": [
        "#precission\n",
        "p_s = precision_score(y_true, y_pred, average='weighted')\n",
        "#recall\n",
        "r_s = recall_score(y_true, y_pred, average='weighted')\n",
        "#f1 score\n",
        "f1_s = f1_score(y_true, y_pred, average='weighted')"
      ]
    },
    {
      "cell_type": "code",
      "execution_count": null,
      "metadata": {
        "id": "qh83jlTp47Cq",
        "colab": {
          "base_uri": "https://localhost:8080/"
        },
        "outputId": "27f9d687-bf2a-4d62-8e41-5dd77379fd60"
      },
      "outputs": [
        {
          "output_type": "stream",
          "name": "stdout",
          "text": [
            "Precision score: 0.7662121058563981\n",
            "Recall score: 0.76\n",
            "f1 score: 0.7545673640076314\n"
          ]
        }
      ],
      "source": [
        "print(f'Precision score: {p_s}\\nRecall score: {r_s}\\nf1 score: {f1_s}')"
      ]
    },
    {
      "cell_type": "markdown",
      "source": [
        "#Single sample prediction"
      ],
      "metadata": {
        "id": "DULxSzvbBroR"
      }
    },
    {
      "cell_type": "code",
      "source": [
        "def predict(model, image):\n",
        "    with torch.no_grad():\n",
        "        net_out = model(image)  # returns a list,\n",
        "        predicted_class = torch.argmax(net_out)\n",
        "        print('net_out: ', net_out)\n",
        "    return predicted_class.item()"
      ],
      "metadata": {
        "id": "B1iKbc95Bt6h"
      },
      "execution_count": null,
      "outputs": []
    },
    {
      "cell_type": "code",
      "source": [
        "images_0 = []\n",
        "for (data,label) in test_dataset:\n",
        "  if label == 0:\n",
        "    images_0.append(data)\n",
        "\n",
        "images_1 = []\n",
        "for (data,label) in test_dataset:\n",
        "  if label == 1:\n",
        "    images_1.append(data)\n",
        "\n",
        "images_2 = []\n",
        "for (data,label) in test_dataset:\n",
        "  if label == 2:\n",
        "    images_2.append(data)\n",
        "\n",
        "images_3 = []\n",
        "for (data,label) in test_dataset:\n",
        "  if label == 3:\n",
        "    images_3.append(data)\n",
        "\n",
        "print(len(images_0), len(images_1), len(images_2), len(images_3))"
      ],
      "metadata": {
        "colab": {
          "base_uri": "https://localhost:8080/"
        },
        "id": "_ui7UB0UBwcl",
        "outputId": "df990cef-be58-43b5-9d37-c0f503938693"
      },
      "execution_count": null,
      "outputs": [
        {
          "output_type": "stream",
          "name": "stdout",
          "text": [
            "250 250 250 250\n"
          ]
        }
      ]
    },
    {
      "cell_type": "code",
      "source": [
        "model_oct.to('cpu')"
      ],
      "metadata": {
        "colab": {
          "base_uri": "https://localhost:8080/"
        },
        "id": "9vgg2YFvCTVD",
        "outputId": "bbda2944-25fd-4217-8cc1-fd61a3bcf8dd"
      },
      "execution_count": null,
      "outputs": [
        {
          "output_type": "execute_result",
          "data": {
            "text/plain": [
              "ConvolutionalNetwork(\n",
              "  (conv1): Conv2d(1, 20, kernel_size=(3, 3), stride=(1, 1))\n",
              "  (conv1_bn): BatchNorm2d(20, eps=1e-05, momentum=0.1, affine=True, track_running_stats=True)\n",
              "  (conv2): Conv2d(20, 40, kernel_size=(3, 3), stride=(1, 1))\n",
              "  (conv2_bn): BatchNorm2d(40, eps=1e-05, momentum=0.1, affine=True, track_running_stats=True)\n",
              "  (conv3): Conv2d(40, 80, kernel_size=(3, 3), stride=(1, 1))\n",
              "  (conv3_bn): BatchNorm2d(80, eps=1e-05, momentum=0.1, affine=True, track_running_stats=True)\n",
              "  (conv4): Conv2d(80, 160, kernel_size=(3, 3), stride=(1, 1))\n",
              "  (conv4_bn): BatchNorm2d(160, eps=1e-05, momentum=0.1, affine=True, track_running_stats=True)\n",
              "  (fc1): Linear(in_features=7840, out_features=1000, bias=True)\n",
              "  (fc1_bn): BatchNorm1d(1000, eps=1e-05, momentum=0.1, affine=True, track_running_stats=True)\n",
              "  (fc2): Linear(in_features=1000, out_features=500, bias=True)\n",
              "  (fc2_bn): BatchNorm1d(500, eps=1e-05, momentum=0.1, affine=True, track_running_stats=True)\n",
              "  (fc3): Linear(in_features=500, out_features=50, bias=True)\n",
              "  (fc3_bn): BatchNorm1d(50, eps=1e-05, momentum=0.1, affine=True, track_running_stats=True)\n",
              "  (fc4): Linear(in_features=50, out_features=4, bias=True)\n",
              ")"
            ]
          },
          "metadata": {},
          "execution_count": 13
        }
      ]
    },
    {
      "cell_type": "code",
      "source": [
        "img_oct_0 = images_0[0].reshape(1,1,28,28)\n",
        "predicted =  predict(model_oct, torch.Tensor(img_oct_0))\n",
        "predicted"
      ],
      "metadata": {
        "colab": {
          "base_uri": "https://localhost:8080/"
        },
        "id": "BrVzfQnWB4d3",
        "outputId": "dc5369e4-ba5a-4c55-dae4-5b95ea03f9ff"
      },
      "execution_count": null,
      "outputs": [
        {
          "output_type": "stream",
          "name": "stdout",
          "text": [
            "net_out:  tensor([[1.0000e+00, 4.7479e-23, 3.4503e-18, 6.1219e-35]])\n"
          ]
        },
        {
          "output_type": "execute_result",
          "data": {
            "text/plain": [
              "0"
            ]
          },
          "metadata": {},
          "execution_count": 16
        }
      ]
    },
    {
      "cell_type": "code",
      "source": [
        "img_oct_1 = images_1[0].reshape(1,1,28,28)\n",
        "predicted =  predict(model_oct, torch.Tensor(img_oct_1))\n",
        "predicted"
      ],
      "metadata": {
        "colab": {
          "base_uri": "https://localhost:8080/"
        },
        "id": "Qm4yuHz0B43t",
        "outputId": "de4448bf-f729-40d6-d690-335a47b05f07"
      },
      "execution_count": null,
      "outputs": [
        {
          "output_type": "stream",
          "name": "stdout",
          "text": [
            "net_out:  tensor([[1.3896e-08, 1.0000e+00, 7.7762e-10, 1.2421e-10]])\n"
          ]
        },
        {
          "output_type": "execute_result",
          "data": {
            "text/plain": [
              "1"
            ]
          },
          "metadata": {},
          "execution_count": 17
        }
      ]
    },
    {
      "cell_type": "code",
      "source": [
        "img_oct_2 = images_2[0].reshape(1,1,28,28)\n",
        "predicted =  predict(model_oct, torch.Tensor(img_oct_2))\n",
        "predicted"
      ],
      "metadata": {
        "colab": {
          "base_uri": "https://localhost:8080/"
        },
        "id": "FWiJrKahB6m-",
        "outputId": "5105eea2-5050-4daf-bd41-6d77b4461eb5"
      },
      "execution_count": null,
      "outputs": [
        {
          "output_type": "stream",
          "name": "stdout",
          "text": [
            "net_out:  tensor([[1.3343e-04, 8.3392e-07, 9.9986e-01, 4.0567e-06]])\n"
          ]
        },
        {
          "output_type": "execute_result",
          "data": {
            "text/plain": [
              "2"
            ]
          },
          "metadata": {},
          "execution_count": 18
        }
      ]
    },
    {
      "cell_type": "code",
      "source": [
        "img_oct_3 = images_3[0].reshape(1,1,28,28)\n",
        "predicted =  predict(model_oct, torch.Tensor(img_oct_3))\n",
        "predicted"
      ],
      "metadata": {
        "colab": {
          "base_uri": "https://localhost:8080/"
        },
        "id": "52ExaIOUB8qe",
        "outputId": "e8abb9a7-0c11-49b7-dda8-ce0686345b9d"
      },
      "execution_count": null,
      "outputs": [
        {
          "output_type": "stream",
          "name": "stdout",
          "text": [
            "net_out:  tensor([[3.0063e-06, 7.6600e-05, 2.4117e-03, 9.9751e-01]])\n"
          ]
        },
        {
          "output_type": "execute_result",
          "data": {
            "text/plain": [
              "3"
            ]
          },
          "metadata": {},
          "execution_count": 19
        }
      ]
    },
    {
      "cell_type": "code",
      "source": [
        "np.save(\"/content/drive/MyDrive/Colab Notebooks/Med_MNIST_inż/img_oct_0_p.npy\",\n",
        "        img_oct_0 )\n",
        "np.save(\"/content/drive/MyDrive/Colab Notebooks/Med_MNIST_inż/img_oct_1_p.npy\",\n",
        "        img_oct_1 )\n",
        "np.save(\"/content/drive/MyDrive/Colab Notebooks/Med_MNIST_inż/img_oct_2_p.npy\",\n",
        "        img_oct_2 )\n",
        "np.save(\"/content/drive/MyDrive/Colab Notebooks/Med_MNIST_inż/img_oct_3_P.npy\",\n",
        "        img_oct_3 )"
      ],
      "metadata": {
        "id": "Pjgp9IFtCloo"
      },
      "execution_count": null,
      "outputs": []
    }
  ],
  "metadata": {
    "colab": {
      "collapsed_sections": [
        "RYVeSplzSCJ5"
      ],
      "provenance": [],
      "authorship_tag": "ABX9TyMFhBOurFQCggi9Lk+UyZwn",
      "include_colab_link": true
    },
    "kernelspec": {
      "display_name": "Python 3",
      "name": "python3"
    },
    "language_info": {
      "name": "python"
    },
    "accelerator": "GPU",
    "gpuClass": "standard",
    "widgets": {
      "application/vnd.jupyter.widget-state+json": {
        "da152b93efff4e01853887291fd72106": {
          "model_module": "@jupyter-widgets/controls",
          "model_name": "HBoxModel",
          "model_module_version": "1.5.0",
          "state": {
            "_dom_classes": [],
            "_model_module": "@jupyter-widgets/controls",
            "_model_module_version": "1.5.0",
            "_model_name": "HBoxModel",
            "_view_count": null,
            "_view_module": "@jupyter-widgets/controls",
            "_view_module_version": "1.5.0",
            "_view_name": "HBoxView",
            "box_style": "",
            "children": [
              "IPY_MODEL_6ee9e929c0a24b108f9b64e459f9d7ae",
              "IPY_MODEL_ce182525d53041c4ab42cff9e7feecd1",
              "IPY_MODEL_1cc7da8d10b94792bafc5578effdf1a1"
            ],
            "layout": "IPY_MODEL_268dc3397764432d8eac765d8a7eb58c"
          }
        },
        "6ee9e929c0a24b108f9b64e459f9d7ae": {
          "model_module": "@jupyter-widgets/controls",
          "model_name": "HTMLModel",
          "model_module_version": "1.5.0",
          "state": {
            "_dom_classes": [],
            "_model_module": "@jupyter-widgets/controls",
            "_model_module_version": "1.5.0",
            "_model_name": "HTMLModel",
            "_view_count": null,
            "_view_module": "@jupyter-widgets/controls",
            "_view_module_version": "1.5.0",
            "_view_name": "HTMLView",
            "description": "",
            "description_tooltip": null,
            "layout": "IPY_MODEL_b3724bbfc37440f88483c7f10714ea41",
            "placeholder": "​",
            "style": "IPY_MODEL_8eea0b3b15de408e90cb73887e8a1c17",
            "value": "100%"
          }
        },
        "ce182525d53041c4ab42cff9e7feecd1": {
          "model_module": "@jupyter-widgets/controls",
          "model_name": "FloatProgressModel",
          "model_module_version": "1.5.0",
          "state": {
            "_dom_classes": [],
            "_model_module": "@jupyter-widgets/controls",
            "_model_module_version": "1.5.0",
            "_model_name": "FloatProgressModel",
            "_view_count": null,
            "_view_module": "@jupyter-widgets/controls",
            "_view_module_version": "1.5.0",
            "_view_name": "ProgressView",
            "bar_style": "success",
            "description": "",
            "description_tooltip": null,
            "layout": "IPY_MODEL_a93ceabd293b48c2b9c595b804117aa5",
            "max": 54938180,
            "min": 0,
            "orientation": "horizontal",
            "style": "IPY_MODEL_0cfc438a695d47029f40d0b8a4772776",
            "value": 54938180
          }
        },
        "1cc7da8d10b94792bafc5578effdf1a1": {
          "model_module": "@jupyter-widgets/controls",
          "model_name": "HTMLModel",
          "model_module_version": "1.5.0",
          "state": {
            "_dom_classes": [],
            "_model_module": "@jupyter-widgets/controls",
            "_model_module_version": "1.5.0",
            "_model_name": "HTMLModel",
            "_view_count": null,
            "_view_module": "@jupyter-widgets/controls",
            "_view_module_version": "1.5.0",
            "_view_name": "HTMLView",
            "description": "",
            "description_tooltip": null,
            "layout": "IPY_MODEL_96d1997ff7384319850e17941709ebb2",
            "placeholder": "​",
            "style": "IPY_MODEL_a5b9d555e43a45e3a2d3e28e0e8bd971",
            "value": " 54938180/54938180 [01:23&lt;00:00, 606998.77it/s]"
          }
        },
        "268dc3397764432d8eac765d8a7eb58c": {
          "model_module": "@jupyter-widgets/base",
          "model_name": "LayoutModel",
          "model_module_version": "1.2.0",
          "state": {
            "_model_module": "@jupyter-widgets/base",
            "_model_module_version": "1.2.0",
            "_model_name": "LayoutModel",
            "_view_count": null,
            "_view_module": "@jupyter-widgets/base",
            "_view_module_version": "1.2.0",
            "_view_name": "LayoutView",
            "align_content": null,
            "align_items": null,
            "align_self": null,
            "border": null,
            "bottom": null,
            "display": null,
            "flex": null,
            "flex_flow": null,
            "grid_area": null,
            "grid_auto_columns": null,
            "grid_auto_flow": null,
            "grid_auto_rows": null,
            "grid_column": null,
            "grid_gap": null,
            "grid_row": null,
            "grid_template_areas": null,
            "grid_template_columns": null,
            "grid_template_rows": null,
            "height": null,
            "justify_content": null,
            "justify_items": null,
            "left": null,
            "margin": null,
            "max_height": null,
            "max_width": null,
            "min_height": null,
            "min_width": null,
            "object_fit": null,
            "object_position": null,
            "order": null,
            "overflow": null,
            "overflow_x": null,
            "overflow_y": null,
            "padding": null,
            "right": null,
            "top": null,
            "visibility": null,
            "width": null
          }
        },
        "b3724bbfc37440f88483c7f10714ea41": {
          "model_module": "@jupyter-widgets/base",
          "model_name": "LayoutModel",
          "model_module_version": "1.2.0",
          "state": {
            "_model_module": "@jupyter-widgets/base",
            "_model_module_version": "1.2.0",
            "_model_name": "LayoutModel",
            "_view_count": null,
            "_view_module": "@jupyter-widgets/base",
            "_view_module_version": "1.2.0",
            "_view_name": "LayoutView",
            "align_content": null,
            "align_items": null,
            "align_self": null,
            "border": null,
            "bottom": null,
            "display": null,
            "flex": null,
            "flex_flow": null,
            "grid_area": null,
            "grid_auto_columns": null,
            "grid_auto_flow": null,
            "grid_auto_rows": null,
            "grid_column": null,
            "grid_gap": null,
            "grid_row": null,
            "grid_template_areas": null,
            "grid_template_columns": null,
            "grid_template_rows": null,
            "height": null,
            "justify_content": null,
            "justify_items": null,
            "left": null,
            "margin": null,
            "max_height": null,
            "max_width": null,
            "min_height": null,
            "min_width": null,
            "object_fit": null,
            "object_position": null,
            "order": null,
            "overflow": null,
            "overflow_x": null,
            "overflow_y": null,
            "padding": null,
            "right": null,
            "top": null,
            "visibility": null,
            "width": null
          }
        },
        "8eea0b3b15de408e90cb73887e8a1c17": {
          "model_module": "@jupyter-widgets/controls",
          "model_name": "DescriptionStyleModel",
          "model_module_version": "1.5.0",
          "state": {
            "_model_module": "@jupyter-widgets/controls",
            "_model_module_version": "1.5.0",
            "_model_name": "DescriptionStyleModel",
            "_view_count": null,
            "_view_module": "@jupyter-widgets/base",
            "_view_module_version": "1.2.0",
            "_view_name": "StyleView",
            "description_width": ""
          }
        },
        "a93ceabd293b48c2b9c595b804117aa5": {
          "model_module": "@jupyter-widgets/base",
          "model_name": "LayoutModel",
          "model_module_version": "1.2.0",
          "state": {
            "_model_module": "@jupyter-widgets/base",
            "_model_module_version": "1.2.0",
            "_model_name": "LayoutModel",
            "_view_count": null,
            "_view_module": "@jupyter-widgets/base",
            "_view_module_version": "1.2.0",
            "_view_name": "LayoutView",
            "align_content": null,
            "align_items": null,
            "align_self": null,
            "border": null,
            "bottom": null,
            "display": null,
            "flex": null,
            "flex_flow": null,
            "grid_area": null,
            "grid_auto_columns": null,
            "grid_auto_flow": null,
            "grid_auto_rows": null,
            "grid_column": null,
            "grid_gap": null,
            "grid_row": null,
            "grid_template_areas": null,
            "grid_template_columns": null,
            "grid_template_rows": null,
            "height": null,
            "justify_content": null,
            "justify_items": null,
            "left": null,
            "margin": null,
            "max_height": null,
            "max_width": null,
            "min_height": null,
            "min_width": null,
            "object_fit": null,
            "object_position": null,
            "order": null,
            "overflow": null,
            "overflow_x": null,
            "overflow_y": null,
            "padding": null,
            "right": null,
            "top": null,
            "visibility": null,
            "width": null
          }
        },
        "0cfc438a695d47029f40d0b8a4772776": {
          "model_module": "@jupyter-widgets/controls",
          "model_name": "ProgressStyleModel",
          "model_module_version": "1.5.0",
          "state": {
            "_model_module": "@jupyter-widgets/controls",
            "_model_module_version": "1.5.0",
            "_model_name": "ProgressStyleModel",
            "_view_count": null,
            "_view_module": "@jupyter-widgets/base",
            "_view_module_version": "1.2.0",
            "_view_name": "StyleView",
            "bar_color": null,
            "description_width": ""
          }
        },
        "96d1997ff7384319850e17941709ebb2": {
          "model_module": "@jupyter-widgets/base",
          "model_name": "LayoutModel",
          "model_module_version": "1.2.0",
          "state": {
            "_model_module": "@jupyter-widgets/base",
            "_model_module_version": "1.2.0",
            "_model_name": "LayoutModel",
            "_view_count": null,
            "_view_module": "@jupyter-widgets/base",
            "_view_module_version": "1.2.0",
            "_view_name": "LayoutView",
            "align_content": null,
            "align_items": null,
            "align_self": null,
            "border": null,
            "bottom": null,
            "display": null,
            "flex": null,
            "flex_flow": null,
            "grid_area": null,
            "grid_auto_columns": null,
            "grid_auto_flow": null,
            "grid_auto_rows": null,
            "grid_column": null,
            "grid_gap": null,
            "grid_row": null,
            "grid_template_areas": null,
            "grid_template_columns": null,
            "grid_template_rows": null,
            "height": null,
            "justify_content": null,
            "justify_items": null,
            "left": null,
            "margin": null,
            "max_height": null,
            "max_width": null,
            "min_height": null,
            "min_width": null,
            "object_fit": null,
            "object_position": null,
            "order": null,
            "overflow": null,
            "overflow_x": null,
            "overflow_y": null,
            "padding": null,
            "right": null,
            "top": null,
            "visibility": null,
            "width": null
          }
        },
        "a5b9d555e43a45e3a2d3e28e0e8bd971": {
          "model_module": "@jupyter-widgets/controls",
          "model_name": "DescriptionStyleModel",
          "model_module_version": "1.5.0",
          "state": {
            "_model_module": "@jupyter-widgets/controls",
            "_model_module_version": "1.5.0",
            "_model_name": "DescriptionStyleModel",
            "_view_count": null,
            "_view_module": "@jupyter-widgets/base",
            "_view_module_version": "1.2.0",
            "_view_name": "StyleView",
            "description_width": ""
          }
        }
      }
    }
  },
  "nbformat": 4,
  "nbformat_minor": 0
}